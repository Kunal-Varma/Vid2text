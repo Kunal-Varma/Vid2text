{
 "cells": [
  {
   "cell_type": "markdown",
   "metadata": {},
   "source": [
    "## Extracting Text from video"
   ]
  },
  {
   "cell_type": "markdown",
   "metadata": {},
   "source": [
    "## step 1 Install libraries \n",
    "\n",
    "- pip install SpeechRecognition \n",
    "- pip install moviepy\n",
    "\n",
    "## step 2 Download a .mp4 video\n",
    "\n",
    "## step 3 Create 2 folders cut and converted inside your directory\n",
    "\n",
    "## step 4 run the script"
   ]
  },
  {
   "cell_type": "code",
   "execution_count": 7,
   "metadata": {},
   "outputs": [
    {
     "name": "stdout",
     "output_type": "stream",
     "text": [
      "Requirement already satisfied: SpeechRecognition in c:\\users\\kunal\\anaconda3\\lib\\site-packages (3.8.1)\n"
     ]
    }
   ],
   "source": [
    "!pip install SpeechRecognition "
   ]
  },
  {
   "cell_type": "code",
   "execution_count": 8,
   "metadata": {},
   "outputs": [
    {
     "name": "stdout",
     "output_type": "stream",
     "text": [
      "Requirement already satisfied: moviepy in c:\\users\\kunal\\anaconda3\\lib\\site-packages (1.0.3)\n",
      "Requirement already satisfied: numpy>=1.17.3; python_version != \"2.7\" in c:\\users\\kunal\\anaconda3\\lib\\site-packages (from moviepy) (1.18.1)\n",
      "Requirement already satisfied: requests<3.0,>=2.8.1 in c:\\users\\kunal\\anaconda3\\lib\\site-packages (from moviepy) (2.22.0)\n",
      "Requirement already satisfied: tqdm<5.0,>=4.11.2 in c:\\users\\kunal\\anaconda3\\lib\\site-packages (from moviepy) (4.42.1)\n",
      "Requirement already satisfied: imageio-ffmpeg>=0.2.0; python_version >= \"3.4\" in c:\\users\\kunal\\anaconda3\\lib\\site-packages (from moviepy) (0.4.3)\n",
      "Requirement already satisfied: decorator<5.0,>=4.0.2 in c:\\users\\kunal\\anaconda3\\lib\\site-packages (from moviepy) (4.4.1)\n",
      "Requirement already satisfied: imageio<3.0,>=2.5; python_version >= \"3.4\" in c:\\users\\kunal\\anaconda3\\lib\\site-packages (from moviepy) (2.6.1)\n",
      "Requirement already satisfied: proglog<=1.0.0 in c:\\users\\kunal\\anaconda3\\lib\\site-packages (from moviepy) (0.1.9)\n",
      "Requirement already satisfied: idna<2.9,>=2.5 in c:\\users\\kunal\\anaconda3\\lib\\site-packages (from requests<3.0,>=2.8.1->moviepy) (2.8)\n",
      "Requirement already satisfied: chardet<3.1.0,>=3.0.2 in c:\\users\\kunal\\anaconda3\\lib\\site-packages (from requests<3.0,>=2.8.1->moviepy) (3.0.4)\n",
      "Requirement already satisfied: urllib3!=1.25.0,!=1.25.1,<1.26,>=1.21.1 in c:\\users\\kunal\\anaconda3\\lib\\site-packages (from requests<3.0,>=2.8.1->moviepy) (1.25.8)\n",
      "Requirement already satisfied: certifi>=2017.4.17 in c:\\users\\kunal\\anaconda3\\lib\\site-packages (from requests<3.0,>=2.8.1->moviepy) (2019.11.28)\n",
      "Requirement already satisfied: pillow in c:\\users\\kunal\\anaconda3\\lib\\site-packages (from imageio<3.0,>=2.5; python_version >= \"3.4\"->moviepy) (7.0.0)\n"
     ]
    }
   ],
   "source": [
    "!pip install moviepy"
   ]
  },
  {
   "cell_type": "code",
   "execution_count": 4,
   "metadata": {},
   "outputs": [
    {
     "name": "stderr",
     "output_type": "stream",
     "text": [
      "chunk:   2%|▍                      | 28/1324 [01:13<05:12,  4.15it/s, now=None]"
     ]
    },
    {
     "name": "stdout",
     "output_type": "stream",
     "text": [
      "The video is 3120 seconds\n",
      "Moviepy - Running:\n",
      ">>> \"+ \" \".join(cmd)\n"
     ]
    },
    {
     "name": "stderr",
     "output_type": "stream",
     "text": [
      "chunk:   2%|▍                      | 28/1324 [01:17<05:12,  4.15it/s, now=None]"
     ]
    },
    {
     "name": "stdout",
     "output_type": "stream",
     "text": [
      "Moviepy - Command successful\n"
     ]
    },
    {
     "name": "stderr",
     "output_type": "stream",
     "text": [
      "chunk:   2%|▍                      | 28/1324 [01:19<05:12,  4.15it/s, now=None]\n",
      "chunk:   0%|                                | 0/1324 [00:00<?, ?it/s, now=None]\u001b[A"
     ]
    },
    {
     "name": "stdout",
     "output_type": "stream",
     "text": [
      "MoviePy - Writing audio in converted/converted1.wav\n"
     ]
    },
    {
     "name": "stderr",
     "output_type": "stream",
     "text": [
      "\n",
      "chunk:   0%|                        | 3/1324 [00:00<01:37, 13.50it/s, now=None]\u001b[A\n",
      "chunk:   3%|▋                      | 40/1324 [00:00<01:07, 18.99it/s, now=None]\u001b[A\n",
      "chunk:   7%|█▋                     | 94/1324 [00:00<00:46, 26.73it/s, now=None]\u001b[A\n",
      "chunk:  10%|██▏                   | 130/1324 [00:00<00:32, 37.01it/s, now=None]\u001b[A\n",
      "chunk:  13%|██▊                   | 166/1324 [00:00<00:22, 50.64it/s, now=None]\u001b[A\n",
      "chunk:  15%|███▍                  | 204/1324 [00:00<00:16, 68.21it/s, now=None]\u001b[A\n",
      "chunk:  19%|████▏                 | 255/1324 [00:00<00:11, 91.06it/s, now=None]\u001b[A\n",
      "chunk:  23%|████▊                | 306/1324 [00:00<00:08, 118.98it/s, now=None]\u001b[A\n",
      "chunk:  27%|█████▋               | 357/1324 [00:01<00:06, 151.88it/s, now=None]\u001b[A\n",
      "chunk:  31%|██████▍              | 407/1324 [00:01<00:04, 191.96it/s, now=None]\u001b[A\n",
      "chunk:  34%|███████▏             | 450/1324 [00:01<00:03, 226.53it/s, now=None]\u001b[A\n",
      "chunk:  37%|███████▊             | 492/1324 [00:01<00:03, 254.22it/s, now=None]\u001b[A\n",
      "chunk:  40%|████████▍            | 532/1324 [00:01<00:03, 254.34it/s, now=None]\u001b[A\n",
      "chunk:  43%|█████████            | 568/1324 [00:01<00:02, 261.23it/s, now=None]\u001b[A\n",
      "chunk:  46%|█████████▋           | 612/1324 [00:01<00:02, 289.80it/s, now=None]\u001b[A\n",
      "chunk:  50%|██████████▌          | 663/1324 [00:01<00:02, 320.33it/s, now=None]\u001b[A\n",
      "chunk:  54%|███████████▎         | 714/1324 [00:02<00:01, 346.52it/s, now=None]\u001b[A\n",
      "chunk:  58%|████████████▏        | 765/1324 [00:02<00:01, 369.17it/s, now=None]\u001b[A\n",
      "chunk:  62%|████████████▉        | 816/1324 [00:02<00:01, 385.11it/s, now=None]\u001b[A\n",
      "chunk:  65%|█████████████▋       | 863/1324 [00:02<00:01, 407.09it/s, now=None]\u001b[A\n",
      "chunk:  68%|██████████████▎      | 906/1324 [00:02<00:01, 361.44it/s, now=None]\u001b[A\n",
      "chunk:  71%|██████████████▉      | 945/1324 [00:02<00:01, 358.25it/s, now=None]\u001b[A\n",
      "chunk:  74%|███████████████▌     | 983/1324 [00:02<00:00, 364.43it/s, now=None]\u001b[A\n",
      "chunk:  77%|███████████████▍    | 1021/1324 [00:02<00:00, 368.89it/s, now=None]\u001b[A\n",
      "chunk:  81%|████████████████▏   | 1071/1324 [00:02<00:00, 388.25it/s, now=None]\u001b[A\n",
      "chunk:  85%|████████████████▉   | 1122/1324 [00:03<00:00, 399.44it/s, now=None]\u001b[A\n",
      "chunk:  89%|█████████████████▋  | 1173/1324 [00:03<00:00, 405.73it/s, now=None]\u001b[A\n",
      "chunk:  92%|██████████████████▎ | 1215/1324 [00:03<00:00, 401.58it/s, now=None]\u001b[A\n",
      "chunk:  95%|██████████████████▉ | 1256/1324 [00:03<00:00, 357.47it/s, now=None]\u001b[A\n",
      "chunk:  98%|███████████████████▌| 1293/1324 [00:03<00:00, 334.57it/s, now=None]\u001b[A\n",
      "chunk:   2%|▍                      | 28/1324 [01:22<05:12,  4.15it/s, now=None]\u001b[A"
     ]
    },
    {
     "name": "stdout",
     "output_type": "stream",
     "text": [
      "MoviePy - Done.\n"
     ]
    },
    {
     "name": "stderr",
     "output_type": "stream",
     "text": [
      "chunk:   2%|▍                      | 28/1324 [01:39<05:12,  4.15it/s, now=None]"
     ]
    },
    {
     "name": "stdout",
     "output_type": "stream",
     "text": [
      "Moviepy - Running:\n",
      ">>> \"+ \" \".join(cmd)\n"
     ]
    },
    {
     "name": "stderr",
     "output_type": "stream",
     "text": [
      "chunk:   2%|▍                      | 28/1324 [01:43<05:12,  4.15it/s, now=None]"
     ]
    },
    {
     "name": "stdout",
     "output_type": "stream",
     "text": [
      "Moviepy - Command successful\n"
     ]
    },
    {
     "name": "stderr",
     "output_type": "stream",
     "text": [
      "chunk:   2%|▍                      | 28/1324 [01:45<05:12,  4.15it/s, now=None]\n",
      "chunk:   0%|                                | 0/1405 [00:00<?, ?it/s, now=None]\u001b[A"
     ]
    },
    {
     "name": "stdout",
     "output_type": "stream",
     "text": [
      "MoviePy - Writing audio in converted/converted2.wav\n"
     ]
    },
    {
     "name": "stderr",
     "output_type": "stream",
     "text": [
      "\n",
      "chunk:   0%|                        | 3/1405 [00:00<01:31, 15.37it/s, now=None]\u001b[A\n",
      "chunk:   6%|█▍                     | 87/1405 [00:00<01:00, 21.79it/s, now=None]\u001b[A\n",
      "chunk:  10%|██▎                   | 147/1405 [00:00<00:41, 30.65it/s, now=None]\u001b[A\n",
      "chunk:  15%|███▏                  | 204/1405 [00:00<00:28, 42.72it/s, now=None]\u001b[A\n",
      "chunk:  19%|████▏                 | 265/1405 [00:00<00:19, 59.24it/s, now=None]\u001b[A\n",
      "chunk:  24%|█████▎                | 339/1405 [00:00<00:13, 81.83it/s, now=None]\u001b[A\n",
      "chunk:  29%|██████               | 408/1405 [00:00<00:09, 110.28it/s, now=None]\u001b[A\n",
      "chunk:  34%|███████              | 472/1405 [00:00<00:06, 146.70it/s, now=None]\u001b[A\n",
      "chunk:  38%|████████             | 539/1405 [00:01<00:04, 191.58it/s, now=None]\u001b[A\n",
      "chunk:  43%|█████████            | 609/1405 [00:01<00:03, 244.93it/s, now=None]\u001b[A\n",
      "chunk:  48%|██████████           | 673/1405 [00:01<00:02, 285.67it/s, now=None]\u001b[A\n",
      "chunk:  52%|██████████▉          | 732/1405 [00:01<00:01, 337.92it/s, now=None]\u001b[A\n",
      "chunk:  56%|███████████▊         | 793/1405 [00:01<00:01, 390.07it/s, now=None]\u001b[A\n",
      "chunk:  61%|████████████▊        | 856/1405 [00:01<00:01, 440.32it/s, now=None]\u001b[A\n",
      "chunk:  65%|█████████████▋       | 918/1405 [00:01<00:01, 462.72it/s, now=None]\u001b[A\n",
      "chunk:  70%|██████████████▋      | 981/1405 [00:01<00:00, 502.69it/s, now=None]\u001b[A\n",
      "chunk:  74%|██████████████▉     | 1046/1405 [00:01<00:00, 539.26it/s, now=None]\u001b[A\n",
      "chunk:  79%|███████████████▊    | 1110/1405 [00:01<00:00, 564.38it/s, now=None]\u001b[A\n",
      "chunk:  83%|████████████████▋   | 1173/1405 [00:02<00:00, 562.16it/s, now=None]\u001b[A\n",
      "chunk:  88%|█████████████████▋  | 1239/1405 [00:02<00:00, 588.24it/s, now=None]\u001b[A\n",
      "chunk:  93%|██████████████████▌ | 1307/1405 [00:02<00:00, 612.94it/s, now=None]\u001b[A\n",
      "chunk:  98%|███████████████████▌| 1371/1405 [00:02<00:00, 613.51it/s, now=None]\u001b[A\n",
      "chunk:   2%|▍                      | 28/1324 [01:47<05:12,  4.15it/s, now=None]\u001b[A"
     ]
    },
    {
     "name": "stdout",
     "output_type": "stream",
     "text": [
      "MoviePy - Done.\n"
     ]
    },
    {
     "name": "stderr",
     "output_type": "stream",
     "text": [
      "chunk:   2%|▍                      | 28/1324 [02:02<05:12,  4.15it/s, now=None]"
     ]
    },
    {
     "name": "stdout",
     "output_type": "stream",
     "text": [
      "Moviepy - Running:\n",
      ">>> \"+ \" \".join(cmd)\n"
     ]
    },
    {
     "name": "stderr",
     "output_type": "stream",
     "text": [
      "chunk:   2%|▍                      | 28/1324 [02:05<05:12,  4.15it/s, now=None]"
     ]
    },
    {
     "name": "stdout",
     "output_type": "stream",
     "text": [
      "Moviepy - Command successful\n"
     ]
    },
    {
     "name": "stderr",
     "output_type": "stream",
     "text": [
      "chunk:   2%|▍                      | 28/1324 [02:07<05:12,  4.15it/s, now=None]\n",
      "chunk:   0%|                                | 0/1373 [00:00<?, ?it/s, now=None]\u001b[A"
     ]
    },
    {
     "name": "stdout",
     "output_type": "stream",
     "text": [
      "MoviePy - Writing audio in converted/converted3.wav\n"
     ]
    },
    {
     "name": "stderr",
     "output_type": "stream",
     "text": [
      "\n",
      "chunk:   0%|                        | 3/1373 [00:00<01:44, 13.15it/s, now=None]\u001b[A\n",
      "chunk:   3%|▋                      | 44/1373 [00:00<01:11, 18.52it/s, now=None]\u001b[A\n",
      "chunk:   7%|█▋                    | 102/1373 [00:00<00:48, 26.04it/s, now=None]\u001b[A\n",
      "chunk:  11%|██▍                   | 153/1373 [00:00<00:33, 36.34it/s, now=None]\u001b[A\n",
      "chunk:  15%|███▎                  | 204/1373 [00:00<00:23, 50.11it/s, now=None]\u001b[A\n",
      "chunk:  18%|████                  | 254/1373 [00:00<00:16, 68.63it/s, now=None]\u001b[A\n",
      "chunk:  21%|████▋                 | 293/1373 [00:00<00:11, 90.40it/s, now=None]\u001b[A\n",
      "chunk:  24%|█████                | 331/1373 [00:00<00:08, 116.54it/s, now=None]\u001b[A\n",
      "chunk:  27%|█████▋               | 369/1373 [00:01<00:06, 146.79it/s, now=None]\u001b[A\n",
      "chunk:  30%|██████▎              | 412/1373 [00:01<00:05, 182.92it/s, now=None]\u001b[A\n",
      "chunk:  33%|███████              | 459/1373 [00:01<00:04, 221.72it/s, now=None]\u001b[A\n",
      "chunk:  37%|███████▊             | 510/1373 [00:01<00:03, 262.84it/s, now=None]\u001b[A\n",
      "chunk:  41%|████████▌            | 561/1373 [00:01<00:02, 298.33it/s, now=None]\u001b[A\n",
      "chunk:  45%|█████████▎           | 612/1373 [00:01<00:02, 336.66it/s, now=None]\u001b[A\n",
      "chunk:  48%|██████████▏          | 663/1373 [00:01<00:01, 368.30it/s, now=None]\u001b[A\n",
      "chunk:  52%|██████████▉          | 714/1373 [00:01<00:01, 396.13it/s, now=None]\u001b[A\n",
      "chunk:  56%|███████████▋         | 765/1373 [00:01<00:01, 415.16it/s, now=None]\u001b[A\n",
      "chunk:  59%|████████████▍        | 816/1373 [00:02<00:01, 425.30it/s, now=None]\u001b[A\n",
      "chunk:  63%|█████████████▎       | 867/1373 [00:02<00:01, 438.27it/s, now=None]\u001b[A\n",
      "chunk:  67%|██████████████       | 918/1373 [00:02<00:01, 444.31it/s, now=None]\u001b[A\n",
      "chunk:  71%|██████████████▊      | 969/1373 [00:02<00:00, 437.14it/s, now=None]\u001b[A\n",
      "chunk:  74%|██████████████▊     | 1020/1373 [00:02<00:00, 436.67it/s, now=None]\u001b[A\n",
      "chunk:  78%|███████████████▌    | 1071/1373 [00:02<00:00, 445.47it/s, now=None]\u001b[A\n",
      "chunk:  81%|████████████████▎   | 1118/1373 [00:02<00:00, 452.49it/s, now=None]\u001b[A\n",
      "chunk:  85%|████████████████▉   | 1164/1373 [00:02<00:00, 426.77it/s, now=None]\u001b[A\n",
      "chunk:  88%|█████████████████▌  | 1208/1373 [00:02<00:00, 395.69it/s, now=None]\u001b[A\n",
      "chunk:  92%|██████████████████▎ | 1257/1373 [00:03<00:00, 419.83it/s, now=None]\u001b[A\n",
      "chunk:  95%|███████████████████ | 1308/1373 [00:03<00:00, 443.30it/s, now=None]\u001b[A\n",
      "chunk:  99%|███████████████████▋| 1354/1373 [00:03<00:00, 444.16it/s, now=None]\u001b[A\n",
      "chunk:   2%|▍                      | 28/1324 [02:10<05:12,  4.15it/s, now=None]\u001b[A"
     ]
    },
    {
     "name": "stdout",
     "output_type": "stream",
     "text": [
      "MoviePy - Done.\n"
     ]
    },
    {
     "name": "stderr",
     "output_type": "stream",
     "text": [
      "chunk:   2%|▍                      | 28/1324 [02:26<05:12,  4.15it/s, now=None]"
     ]
    },
    {
     "name": "stdout",
     "output_type": "stream",
     "text": [
      "Moviepy - Running:\n",
      ">>> \"+ \" \".join(cmd)\n"
     ]
    },
    {
     "name": "stderr",
     "output_type": "stream",
     "text": [
      "chunk:   2%|▍                      | 28/1324 [02:30<05:12,  4.15it/s, now=None]"
     ]
    },
    {
     "name": "stdout",
     "output_type": "stream",
     "text": [
      "Moviepy - Command successful\n"
     ]
    },
    {
     "name": "stderr",
     "output_type": "stream",
     "text": [
      "chunk:   2%|▍                      | 28/1324 [02:33<05:12,  4.15it/s, now=None]\n",
      "chunk:   0%|                                | 0/1454 [00:00<?, ?it/s, now=None]\u001b[A"
     ]
    },
    {
     "name": "stdout",
     "output_type": "stream",
     "text": [
      "MoviePy - Writing audio in converted/converted4.wav\n"
     ]
    },
    {
     "name": "stderr",
     "output_type": "stream",
     "text": [
      "\n",
      "chunk:   0%|                        | 3/1454 [00:00<01:47, 13.50it/s, now=None]\u001b[A\n",
      "chunk:   2%|▍                      | 29/1454 [00:00<01:15, 18.85it/s, now=None]\u001b[A\n",
      "chunk:   5%|█▏                     | 77/1454 [00:00<00:52, 26.48it/s, now=None]\u001b[A\n",
      "chunk:   8%|█▊                    | 119/1454 [00:00<00:36, 36.83it/s, now=None]\u001b[A\n",
      "chunk:  11%|██▍                   | 164/1454 [00:00<00:25, 50.81it/s, now=None]\u001b[A\n",
      "chunk:  14%|██▉                   | 198/1454 [00:00<00:18, 68.21it/s, now=None]\u001b[A\n",
      "chunk:  16%|███▍                  | 231/1454 [00:00<00:13, 88.01it/s, now=None]\u001b[A\n",
      "chunk:  18%|███▊                 | 262/1454 [00:00<00:10, 111.84it/s, now=None]\u001b[A\n",
      "chunk:  21%|████▍                | 306/1454 [00:01<00:08, 142.94it/s, now=None]\u001b[A\n",
      "chunk:  23%|████▉                | 340/1454 [00:01<00:06, 172.48it/s, now=None]\u001b[A\n",
      "chunk:  26%|█████▍               | 374/1454 [00:01<00:05, 193.05it/s, now=None]\u001b[A\n",
      "chunk:  28%|█████▉               | 413/1454 [00:01<00:04, 227.49it/s, now=None]\u001b[A\n",
      "chunk:  32%|██████▋              | 459/1454 [00:01<00:03, 261.71it/s, now=None]\u001b[A\n",
      "chunk:  35%|███████▎             | 510/1454 [00:01<00:03, 297.32it/s, now=None]\u001b[A\n",
      "chunk:  39%|████████             | 561/1454 [00:01<00:02, 335.76it/s, now=None]\u001b[A\n",
      "chunk:  42%|████████▊            | 612/1454 [00:01<00:02, 360.52it/s, now=None]\u001b[A\n",
      "chunk:  46%|█████████▌           | 663/1454 [00:01<00:02, 391.60it/s, now=None]\u001b[A\n",
      "chunk:  49%|██████████▎          | 714/1454 [00:02<00:01, 408.66it/s, now=None]\u001b[A\n",
      "chunk:  53%|███████████          | 765/1454 [00:02<00:01, 418.43it/s, now=None]\u001b[A\n",
      "chunk:  56%|███████████▊         | 816/1454 [00:02<00:01, 427.72it/s, now=None]\u001b[A\n",
      "chunk:  60%|████████████▌        | 867/1454 [00:02<00:01, 427.89it/s, now=None]\u001b[A\n",
      "chunk:  63%|█████████████▎       | 918/1454 [00:02<00:01, 436.18it/s, now=None]\u001b[A\n",
      "chunk:  67%|█████████████▉       | 969/1454 [00:02<00:01, 432.64it/s, now=None]\u001b[A\n",
      "chunk:  70%|██████████████      | 1020/1454 [00:02<00:00, 441.43it/s, now=None]\u001b[A\n",
      "chunk:  74%|██████████████▋     | 1071/1454 [00:02<00:00, 448.96it/s, now=None]\u001b[A\n",
      "chunk:  77%|███████████████▍    | 1122/1454 [00:02<00:00, 454.39it/s, now=None]\u001b[A\n",
      "chunk:  81%|████████████████▏   | 1173/1454 [00:03<00:00, 453.36it/s, now=None]\u001b[A\n",
      "chunk:  84%|████████████████▊   | 1224/1454 [00:03<00:00, 462.51it/s, now=None]\u001b[A\n",
      "chunk:  88%|█████████████████▌  | 1275/1454 [00:03<00:00, 458.97it/s, now=None]\u001b[A\n",
      "chunk:  91%|██████████████████▏ | 1326/1454 [00:03<00:00, 461.55it/s, now=None]\u001b[A\n",
      "chunk:  94%|██████████████████▉ | 1373/1454 [00:03<00:00, 462.58it/s, now=None]\u001b[A\n",
      "chunk:  98%|███████████████████▌| 1420/1454 [00:03<00:00, 457.88it/s, now=None]\u001b[A\n",
      "chunk:   2%|▍                      | 28/1324 [02:37<05:12,  4.15it/s, now=None]\u001b[A"
     ]
    },
    {
     "name": "stdout",
     "output_type": "stream",
     "text": [
      "MoviePy - Done.\n"
     ]
    },
    {
     "name": "stderr",
     "output_type": "stream",
     "text": [
      "chunk:   2%|▍                      | 28/1324 [02:55<05:12,  4.15it/s, now=None]"
     ]
    },
    {
     "name": "stdout",
     "output_type": "stream",
     "text": [
      "Moviepy - Running:\n",
      ">>> \"+ \" \".join(cmd)\n"
     ]
    },
    {
     "name": "stderr",
     "output_type": "stream",
     "text": [
      "chunk:   2%|▍                      | 28/1324 [02:58<05:12,  4.15it/s, now=None]"
     ]
    },
    {
     "name": "stdout",
     "output_type": "stream",
     "text": [
      "Moviepy - Command successful\n"
     ]
    },
    {
     "name": "stderr",
     "output_type": "stream",
     "text": [
      "chunk:   2%|▍                      | 28/1324 [03:00<05:12,  4.15it/s, now=None]\n",
      "chunk:   0%|                                | 0/1422 [00:00<?, ?it/s, now=None]\u001b[A"
     ]
    },
    {
     "name": "stdout",
     "output_type": "stream",
     "text": [
      "MoviePy - Writing audio in converted/converted5.wav\n"
     ]
    },
    {
     "name": "stderr",
     "output_type": "stream",
     "text": [
      "\n",
      "chunk:   0%|                        | 3/1422 [00:00<01:46, 13.32it/s, now=None]\u001b[A\n",
      "chunk:   3%|▋                      | 45/1422 [00:00<01:13, 18.78it/s, now=None]\u001b[A\n",
      "chunk:   7%|█▌                    | 102/1422 [00:00<00:49, 26.40it/s, now=None]\u001b[A\n",
      "chunk:  11%|██▎                   | 153/1422 [00:00<00:34, 36.85it/s, now=None]\u001b[A\n",
      "chunk:  13%|██▊                   | 185/1422 [00:00<00:24, 50.02it/s, now=None]\u001b[A\n",
      "chunk:  15%|███▎                  | 216/1422 [00:00<00:18, 66.62it/s, now=None]\u001b[A\n",
      "chunk:  18%|███▉                  | 255/1422 [00:00<00:13, 88.43it/s, now=None]\u001b[A\n",
      "chunk:  22%|████▌                | 306/1422 [00:00<00:09, 117.10it/s, now=None]\u001b[A\n",
      "chunk:  25%|█████▎               | 357/1422 [00:01<00:07, 151.34it/s, now=None]\u001b[A\n",
      "chunk:  29%|██████               | 408/1422 [00:01<00:05, 188.38it/s, now=None]\u001b[A\n",
      "chunk:  32%|██████▊              | 459/1422 [00:01<00:04, 229.50it/s, now=None]\u001b[A\n",
      "chunk:  36%|███████▌             | 510/1422 [00:01<00:03, 265.79it/s, now=None]\u001b[A\n",
      "chunk:  39%|████████▎            | 561/1422 [00:01<00:02, 306.97it/s, now=None]\u001b[A\n",
      "chunk:  43%|█████████            | 612/1422 [00:01<00:02, 339.50it/s, now=None]\u001b[A\n",
      "chunk:  47%|█████████▊           | 663/1422 [00:01<00:02, 372.32it/s, now=None]\u001b[A\n",
      "chunk:  50%|██████████▌          | 714/1422 [00:01<00:01, 390.15it/s, now=None]\u001b[A\n",
      "chunk:  54%|███████████▎         | 765/1422 [00:01<00:01, 409.56it/s, now=None]\u001b[A\n",
      "chunk:  57%|████████████         | 816/1422 [00:02<00:01, 411.01it/s, now=None]\u001b[A\n",
      "chunk:  61%|████████████▊        | 867/1422 [00:02<00:01, 416.04it/s, now=None]\u001b[A\n",
      "chunk:  65%|█████████████▌       | 918/1422 [00:02<00:01, 422.76it/s, now=None]\u001b[A\n",
      "chunk:  68%|██████████████▎      | 969/1422 [00:02<00:01, 427.52it/s, now=None]\u001b[A\n",
      "chunk:  72%|██████████████▎     | 1020/1422 [00:02<00:00, 441.10it/s, now=None]\u001b[A\n",
      "chunk:  75%|███████████████     | 1071/1422 [00:02<00:00, 440.57it/s, now=None]\u001b[A\n",
      "chunk:  79%|███████████████▊    | 1122/1422 [00:02<00:00, 450.71it/s, now=None]\u001b[A\n",
      "chunk:  82%|████████████████▍   | 1168/1422 [00:02<00:00, 445.45it/s, now=None]\u001b[A\n",
      "chunk:  86%|█████████████████▏  | 1220/1422 [00:02<00:00, 465.36it/s, now=None]\u001b[A\n",
      "chunk:  89%|█████████████████▊  | 1268/1422 [00:03<00:00, 466.84it/s, now=None]\u001b[A\n",
      "chunk:  93%|██████████████████▌ | 1316/1422 [00:03<00:00, 453.24it/s, now=None]\u001b[A\n",
      "chunk:  96%|███████████████████▏| 1362/1422 [00:03<00:00, 440.78it/s, now=None]\u001b[A\n",
      "chunk:  99%|███████████████████▊| 1407/1422 [00:03<00:00, 435.65it/s, now=None]\u001b[A\n",
      "chunk:   2%|▍                      | 28/1324 [03:04<05:12,  4.15it/s, now=None]\u001b[A"
     ]
    },
    {
     "name": "stdout",
     "output_type": "stream",
     "text": [
      "MoviePy - Done.\n"
     ]
    },
    {
     "name": "stderr",
     "output_type": "stream",
     "text": [
      "chunk:   2%|▍                      | 28/1324 [03:21<05:12,  4.15it/s, now=None]"
     ]
    },
    {
     "name": "stdout",
     "output_type": "stream",
     "text": [
      "Moviepy - Running:\n",
      ">>> \"+ \" \".join(cmd)\n"
     ]
    },
    {
     "name": "stderr",
     "output_type": "stream",
     "text": [
      "chunk:   2%|▍                      | 28/1324 [03:24<05:12,  4.15it/s, now=None]"
     ]
    },
    {
     "name": "stdout",
     "output_type": "stream",
     "text": [
      "Moviepy - Command successful\n"
     ]
    },
    {
     "name": "stderr",
     "output_type": "stream",
     "text": [
      "chunk:   2%|▍                      | 28/1324 [03:25<05:12,  4.15it/s, now=None]\n",
      "chunk:   0%|                                | 0/1391 [00:00<?, ?it/s, now=None]\u001b[A"
     ]
    },
    {
     "name": "stdout",
     "output_type": "stream",
     "text": [
      "MoviePy - Writing audio in converted/converted6.wav\n"
     ]
    },
    {
     "name": "stderr",
     "output_type": "stream",
     "text": [
      "\n",
      "chunk:   0%|                        | 3/1391 [00:00<01:52, 12.29it/s, now=None]\u001b[A\n",
      "chunk:   4%|▉                      | 57/1391 [00:00<01:16, 17.38it/s, now=None]\u001b[A\n",
      "chunk:   7%|█▌                    | 102/1391 [00:00<00:52, 24.42it/s, now=None]\u001b[A\n",
      "chunk:  11%|██▍                   | 153/1391 [00:00<00:36, 34.09it/s, now=None]\u001b[A\n",
      "chunk:  15%|███▏                  | 204/1391 [00:00<00:25, 47.27it/s, now=None]\u001b[A\n",
      "chunk:  18%|████                  | 255/1391 [00:00<00:17, 64.29it/s, now=None]\u001b[A\n",
      "chunk:  22%|████▊                 | 306/1391 [00:00<00:12, 86.16it/s, now=None]\u001b[A\n",
      "chunk:  26%|█████▎               | 355/1391 [00:01<00:09, 114.45it/s, now=None]\u001b[A\n",
      "chunk:  29%|█████▉               | 397/1391 [00:01<00:06, 146.24it/s, now=None]\u001b[A\n",
      "chunk:  32%|██████▋              | 439/1391 [00:01<00:05, 181.30it/s, now=None]\u001b[A\n",
      "chunk:  35%|███████▎             | 486/1391 [00:01<00:04, 221.92it/s, now=None]\u001b[A\n",
      "chunk:  38%|████████             | 530/1391 [00:01<00:03, 258.80it/s, now=None]\u001b[A\n",
      "chunk:  41%|████████▋            | 573/1391 [00:01<00:02, 286.23it/s, now=None]\u001b[A\n",
      "chunk:  45%|█████████▎           | 619/1391 [00:01<00:02, 322.77it/s, now=None]\u001b[A\n",
      "chunk:  48%|██████████           | 663/1391 [00:01<00:02, 345.78it/s, now=None]\u001b[A\n",
      "chunk:  51%|██████████▊          | 714/1391 [00:01<00:01, 375.92it/s, now=None]\u001b[A\n",
      "chunk:  55%|███████████▌         | 765/1391 [00:01<00:01, 390.23it/s, now=None]\u001b[A\n",
      "chunk:  58%|████████████▏        | 809/1391 [00:02<00:01, 376.86it/s, now=None]\u001b[A\n",
      "chunk:  61%|████████████▊        | 850/1391 [00:02<00:01, 310.62it/s, now=None]\u001b[A\n",
      "chunk:  64%|█████████████▍       | 886/1391 [00:02<00:01, 272.39it/s, now=None]\u001b[A\n",
      "chunk:  66%|█████████████▊       | 918/1391 [00:02<00:01, 243.40it/s, now=None]\u001b[A\n",
      "chunk:  68%|██████████████▎      | 946/1391 [00:02<00:01, 249.89it/s, now=None]\u001b[A\n",
      "chunk:  70%|██████████████▋      | 974/1391 [00:02<00:01, 237.77it/s, now=None]\u001b[A\n",
      "chunk:  74%|██████████████▊     | 1028/1391 [00:02<00:01, 285.25it/s, now=None]\u001b[A\n",
      "chunk:  77%|███████████████▍    | 1073/1391 [00:03<00:00, 320.40it/s, now=None]\u001b[A\n",
      "chunk:  81%|████████████████▏   | 1122/1391 [00:03<00:00, 355.93it/s, now=None]\u001b[A\n",
      "chunk:  85%|█████████████████   | 1189/1391 [00:03<00:00, 414.10it/s, now=None]\u001b[A\n",
      "chunk:  90%|██████████████████  | 1255/1391 [00:03<00:00, 466.16it/s, now=None]\u001b[A\n",
      "chunk:  94%|██████████████████▊ | 1311/1391 [00:03<00:00, 489.46it/s, now=None]\u001b[A\n",
      "chunk:  98%|███████████████████▋| 1366/1391 [00:03<00:00, 472.15it/s, now=None]\u001b[A\n",
      "chunk:   2%|▍                      | 28/1324 [03:29<05:12,  4.15it/s, now=None]\u001b[A"
     ]
    },
    {
     "name": "stdout",
     "output_type": "stream",
     "text": [
      "MoviePy - Done.\n"
     ]
    },
    {
     "name": "stderr",
     "output_type": "stream",
     "text": [
      "chunk:   2%|▍                      | 28/1324 [03:46<05:12,  4.15it/s, now=None]"
     ]
    },
    {
     "name": "stdout",
     "output_type": "stream",
     "text": [
      "Moviepy - Running:\n",
      ">>> \"+ \" \".join(cmd)\n"
     ]
    },
    {
     "name": "stderr",
     "output_type": "stream",
     "text": [
      "chunk:   2%|▍                      | 28/1324 [03:49<05:12,  4.15it/s, now=None]"
     ]
    },
    {
     "name": "stdout",
     "output_type": "stream",
     "text": [
      "Moviepy - Command successful\n"
     ]
    },
    {
     "name": "stderr",
     "output_type": "stream",
     "text": [
      "chunk:   2%|▍                      | 28/1324 [03:52<05:12,  4.15it/s, now=None]\n",
      "chunk:   0%|                                | 0/1189 [00:00<?, ?it/s, now=None]\u001b[A"
     ]
    },
    {
     "name": "stdout",
     "output_type": "stream",
     "text": [
      "MoviePy - Writing audio in converted/converted7.wav\n"
     ]
    },
    {
     "name": "stderr",
     "output_type": "stream",
     "text": [
      "\n",
      "chunk:   0%|                        | 3/1189 [00:00<01:28, 13.44it/s, now=None]\u001b[A\n",
      "chunk:   4%|▉                      | 48/1189 [00:00<01:00, 18.96it/s, now=None]\u001b[A\n",
      "chunk:   8%|█▉                     | 98/1189 [00:00<00:40, 26.65it/s, now=None]\u001b[A\n",
      "chunk:  12%|██▌                   | 138/1189 [00:00<00:28, 37.02it/s, now=None]\u001b[A\n",
      "chunk:  15%|███▍                  | 184/1189 [00:00<00:19, 51.12it/s, now=None]\u001b[A\n",
      "chunk:  19%|████▏                 | 229/1189 [00:00<00:13, 69.61it/s, now=None]\u001b[A\n",
      "chunk:  23%|█████                 | 276/1189 [00:00<00:09, 93.50it/s, now=None]\u001b[A\n",
      "chunk:  27%|█████▌               | 317/1189 [00:00<00:07, 121.67it/s, now=None]\u001b[A\n",
      "chunk:  30%|██████▎              | 358/1189 [00:01<00:05, 153.49it/s, now=None]\u001b[A\n",
      "chunk:  34%|███████▏             | 408/1189 [00:01<00:04, 191.32it/s, now=None]\u001b[A\n",
      "chunk:  39%|████████             | 459/1189 [00:01<00:03, 230.65it/s, now=None]\u001b[A\n",
      "chunk:  43%|█████████            | 510/1189 [00:01<00:02, 268.55it/s, now=None]\u001b[A\n",
      "chunk:  47%|█████████▉           | 561/1189 [00:01<00:02, 308.98it/s, now=None]\u001b[A\n",
      "chunk:  51%|██████████▊          | 612/1189 [00:01<00:01, 337.82it/s, now=None]\u001b[A\n",
      "chunk:  56%|███████████▋         | 663/1189 [00:01<00:01, 372.54it/s, now=None]\u001b[A\n",
      "chunk:  60%|████████████▌        | 714/1189 [00:01<00:01, 397.66it/s, now=None]\u001b[A\n",
      "chunk:  64%|█████████████▌       | 765/1189 [00:01<00:01, 409.29it/s, now=None]\u001b[A\n",
      "chunk:  69%|██████████████▍      | 816/1189 [00:02<00:00, 423.06it/s, now=None]\u001b[A\n",
      "chunk:  73%|███████████████▎     | 867/1189 [00:02<00:00, 436.64it/s, now=None]\u001b[A\n",
      "chunk:  77%|████████████████▏    | 918/1189 [00:02<00:00, 443.13it/s, now=None]\u001b[A\n",
      "chunk:  81%|█████████████████    | 969/1189 [00:02<00:00, 438.56it/s, now=None]\u001b[A\n",
      "chunk:  86%|█████████████████▏  | 1020/1189 [00:02<00:00, 449.27it/s, now=None]\u001b[A\n",
      "chunk:  90%|██████████████████  | 1071/1189 [00:02<00:00, 464.55it/s, now=None]\u001b[A\n",
      "chunk:  94%|██████████████████▊ | 1119/1189 [00:02<00:00, 462.17it/s, now=None]\u001b[A\n",
      "chunk:  99%|███████████████████▋| 1172/1189 [00:02<00:00, 480.56it/s, now=None]\u001b[A\n",
      "chunk:   2%|▍                      | 28/1324 [03:55<05:12,  4.15it/s, now=None]\u001b[A"
     ]
    },
    {
     "name": "stdout",
     "output_type": "stream",
     "text": [
      "MoviePy - Done.\n"
     ]
    },
    {
     "name": "stderr",
     "output_type": "stream",
     "text": [
      "chunk:   2%|▍                      | 28/1324 [04:05<05:12,  4.15it/s, now=None]"
     ]
    },
    {
     "name": "stdout",
     "output_type": "stream",
     "text": [
      "Moviepy - Running:\n",
      ">>> \"+ \" \".join(cmd)\n"
     ]
    },
    {
     "name": "stderr",
     "output_type": "stream",
     "text": [
      "chunk:   2%|▍                      | 28/1324 [04:08<05:12,  4.15it/s, now=None]"
     ]
    },
    {
     "name": "stdout",
     "output_type": "stream",
     "text": [
      "Moviepy - Command successful\n"
     ]
    },
    {
     "ename": "OSError",
     "evalue": "MoviePy error: failed to read the first frame of video file chunks/cut8.mp4. That might mean that the file is corrupted. That may also mean that you are using a deprecated version of FFMPEG. On Ubuntu/Debian for instance the version in the repos is deprecated. Please update to a recent version from the website.",
     "output_type": "error",
     "traceback": [
      "\u001b[1;31m---------------------------------------------------------------------------\u001b[0m",
      "\u001b[1;31mOSError\u001b[0m                                   Traceback (most recent call last)",
      "\u001b[1;32m<ipython-input-4-ac5818be546f>\u001b[0m in \u001b[0;36m<module>\u001b[1;34m\u001b[0m\n\u001b[0;32m     10\u001b[0m \u001b[1;32mfor\u001b[0m \u001b[0mi\u001b[0m \u001b[1;32min\u001b[0m \u001b[0mrange\u001b[0m\u001b[1;33m(\u001b[0m\u001b[0mlen\u001b[0m\u001b[1;33m(\u001b[0m\u001b[0ml\u001b[0m\u001b[1;33m)\u001b[0m\u001b[1;33m-\u001b[0m\u001b[1;36m1\u001b[0m\u001b[1;33m)\u001b[0m\u001b[1;33m:\u001b[0m\u001b[1;33m\u001b[0m\u001b[1;33m\u001b[0m\u001b[0m\n\u001b[0;32m     11\u001b[0m     \u001b[0mffmpeg_extract_subclip\u001b[0m\u001b[1;33m(\u001b[0m\u001b[1;34m\"vid1.mp4\"\u001b[0m\u001b[1;33m,\u001b[0m \u001b[0ml\u001b[0m\u001b[1;33m[\u001b[0m\u001b[0mi\u001b[0m\u001b[1;33m]\u001b[0m\u001b[1;33m-\u001b[0m\u001b[1;36m2\u001b[0m\u001b[1;33m*\u001b[0m\u001b[1;33m(\u001b[0m\u001b[0ml\u001b[0m\u001b[1;33m[\u001b[0m\u001b[0mi\u001b[0m\u001b[1;33m]\u001b[0m\u001b[1;33m!=\u001b[0m\u001b[1;36m0\u001b[0m\u001b[1;33m)\u001b[0m\u001b[1;33m,\u001b[0m \u001b[0ml\u001b[0m\u001b[1;33m[\u001b[0m\u001b[0mi\u001b[0m\u001b[1;33m+\u001b[0m\u001b[1;36m1\u001b[0m\u001b[1;33m]\u001b[0m\u001b[1;33m,\u001b[0m \u001b[0mtargetname\u001b[0m\u001b[1;33m=\u001b[0m\u001b[1;34m\"chunks/cut{}.mp4\"\u001b[0m\u001b[1;33m.\u001b[0m\u001b[0mformat\u001b[0m\u001b[1;33m(\u001b[0m\u001b[0mi\u001b[0m\u001b[1;33m+\u001b[0m\u001b[1;36m1\u001b[0m\u001b[1;33m)\u001b[0m\u001b[1;33m)\u001b[0m\u001b[1;33m\u001b[0m\u001b[1;33m\u001b[0m\u001b[0m\n\u001b[1;32m---> 12\u001b[1;33m     \u001b[0mclip\u001b[0m \u001b[1;33m=\u001b[0m \u001b[0mmp\u001b[0m\u001b[1;33m.\u001b[0m\u001b[0mVideoFileClip\u001b[0m\u001b[1;33m(\u001b[0m\u001b[1;34mr\"chunks/cut{}.mp4\"\u001b[0m\u001b[1;33m.\u001b[0m\u001b[0mformat\u001b[0m\u001b[1;33m(\u001b[0m\u001b[0mi\u001b[0m\u001b[1;33m+\u001b[0m\u001b[1;36m1\u001b[0m\u001b[1;33m)\u001b[0m\u001b[1;33m)\u001b[0m\u001b[1;33m\u001b[0m\u001b[1;33m\u001b[0m\u001b[0m\n\u001b[0m\u001b[0;32m     13\u001b[0m     \u001b[0mclip\u001b[0m\u001b[1;33m.\u001b[0m\u001b[0maudio\u001b[0m\u001b[1;33m.\u001b[0m\u001b[0mwrite_audiofile\u001b[0m\u001b[1;33m(\u001b[0m\u001b[1;34mr\"converted/converted{}.wav\"\u001b[0m\u001b[1;33m.\u001b[0m\u001b[0mformat\u001b[0m\u001b[1;33m(\u001b[0m\u001b[0mi\u001b[0m\u001b[1;33m+\u001b[0m\u001b[1;36m1\u001b[0m\u001b[1;33m)\u001b[0m\u001b[1;33m)\u001b[0m\u001b[1;33m\u001b[0m\u001b[1;33m\u001b[0m\u001b[0m\n\u001b[0;32m     14\u001b[0m     \u001b[0mr\u001b[0m \u001b[1;33m=\u001b[0m \u001b[0msr\u001b[0m\u001b[1;33m.\u001b[0m\u001b[0mRecognizer\u001b[0m\u001b[1;33m(\u001b[0m\u001b[1;33m)\u001b[0m\u001b[1;33m\u001b[0m\u001b[1;33m\u001b[0m\u001b[0m\n",
      "\u001b[1;32m~\\anaconda3\\lib\\site-packages\\moviepy\\video\\io\\VideoFileClip.py\u001b[0m in \u001b[0;36m__init__\u001b[1;34m(self, filename, has_mask, audio, audio_buffersize, target_resolution, resize_algorithm, audio_fps, audio_nbytes, verbose, fps_source)\u001b[0m\n\u001b[0;32m     89\u001b[0m                                          \u001b[0mtarget_resolution\u001b[0m\u001b[1;33m=\u001b[0m\u001b[0mtarget_resolution\u001b[0m\u001b[1;33m,\u001b[0m\u001b[1;33m\u001b[0m\u001b[1;33m\u001b[0m\u001b[0m\n\u001b[0;32m     90\u001b[0m                                          \u001b[0mresize_algo\u001b[0m\u001b[1;33m=\u001b[0m\u001b[0mresize_algorithm\u001b[0m\u001b[1;33m,\u001b[0m\u001b[1;33m\u001b[0m\u001b[1;33m\u001b[0m\u001b[0m\n\u001b[1;32m---> 91\u001b[1;33m                                          fps_source=fps_source)\n\u001b[0m\u001b[0;32m     92\u001b[0m \u001b[1;33m\u001b[0m\u001b[0m\n\u001b[0;32m     93\u001b[0m         \u001b[1;31m# Make some of the reader's attributes accessible from the clip\u001b[0m\u001b[1;33m\u001b[0m\u001b[1;33m\u001b[0m\u001b[1;33m\u001b[0m\u001b[0m\n",
      "\u001b[1;32m~\\anaconda3\\lib\\site-packages\\moviepy\\video\\io\\ffmpeg_reader.py\u001b[0m in \u001b[0;36m__init__\u001b[1;34m(self, filename, print_infos, bufsize, pix_fmt, check_duration, target_resolution, resize_algo, fps_source)\u001b[0m\n\u001b[0;32m     71\u001b[0m \u001b[1;33m\u001b[0m\u001b[0m\n\u001b[0;32m     72\u001b[0m         \u001b[0mself\u001b[0m\u001b[1;33m.\u001b[0m\u001b[0mpos\u001b[0m \u001b[1;33m=\u001b[0m \u001b[1;36m1\u001b[0m\u001b[1;33m\u001b[0m\u001b[1;33m\u001b[0m\u001b[0m\n\u001b[1;32m---> 73\u001b[1;33m         \u001b[0mself\u001b[0m\u001b[1;33m.\u001b[0m\u001b[0mlastread\u001b[0m \u001b[1;33m=\u001b[0m \u001b[0mself\u001b[0m\u001b[1;33m.\u001b[0m\u001b[0mread_frame\u001b[0m\u001b[1;33m(\u001b[0m\u001b[1;33m)\u001b[0m\u001b[1;33m\u001b[0m\u001b[1;33m\u001b[0m\u001b[0m\n\u001b[0m\u001b[0;32m     74\u001b[0m \u001b[1;33m\u001b[0m\u001b[0m\n\u001b[0;32m     75\u001b[0m \u001b[1;33m\u001b[0m\u001b[0m\n",
      "\u001b[1;32m~\\anaconda3\\lib\\site-packages\\moviepy\\video\\io\\ffmpeg_reader.py\u001b[0m in \u001b[0;36mread_frame\u001b[1;34m(self)\u001b[0m\n\u001b[0;32m    137\u001b[0m                                \u001b[1;34m\"for instance the version in the repos is deprecated. \"\u001b[0m\u001b[1;33m\u001b[0m\u001b[1;33m\u001b[0m\u001b[0m\n\u001b[0;32m    138\u001b[0m                                \u001b[1;34m\"Please update to a recent version from the website.\"\u001b[0m\u001b[1;33m)\u001b[0m\u001b[1;33m%\u001b[0m\u001b[1;33m(\u001b[0m\u001b[1;33m\u001b[0m\u001b[1;33m\u001b[0m\u001b[0m\n\u001b[1;32m--> 139\u001b[1;33m                                 self.filename))\n\u001b[0m\u001b[0;32m    140\u001b[0m \u001b[1;33m\u001b[0m\u001b[0m\n\u001b[0;32m    141\u001b[0m             \u001b[0mresult\u001b[0m \u001b[1;33m=\u001b[0m \u001b[0mself\u001b[0m\u001b[1;33m.\u001b[0m\u001b[0mlastread\u001b[0m\u001b[1;33m\u001b[0m\u001b[1;33m\u001b[0m\u001b[0m\n",
      "\u001b[1;31mOSError\u001b[0m: MoviePy error: failed to read the first frame of video file chunks/cut8.mp4. That might mean that the file is corrupted. That may also mean that you are using a deprecated version of FFMPEG. On Ubuntu/Debian for instance the version in the repos is deprecated. Please update to a recent version from the website."
     ]
    }
   ],
   "source": [
    "import speech_recognition as sr \n",
    "import moviepy.editor as mp\n",
    "from moviepy.video.io.ffmpeg_tools import ffmpeg_extract_subclip\n",
    "\n",
    "num_seconds_video= 52*60\n",
    "print(\"The video is {} seconds\".format(num_seconds_video))\n",
    "l=list(range(0,num_seconds_video+1,60))\n",
    "\n",
    "diz={}\n",
    "for i in range(len(l)-1):\n",
    "    ffmpeg_extract_subclip(\"vid1.mp4\", l[i]-2*(l[i]!=0), l[i+1], targetname=\"chunks/cut{}.mp4\".format(i+1))\n",
    "    ## extracting chunks from original video\n",
    "    clip = mp.VideoFileClip(r\"chunks/cut{}.mp4\".format(i+1)) \n",
    "    ## converting video to a audio file\n",
    "    clip.audio.write_audiofile(r\"converted/converted{}.wav\".format(i+1))\n",
    "    \n",
    "    r = sr.Recognizer()\n",
    "    \n",
    "    audio = sr.AudioFile(\"converted/converted{}.wav\".format(i+1))\n",
    "    ## adjusting noise for the audio file\n",
    "    with audio as source:\n",
    "      r.adjust_for_ambient_noise(source)  \n",
    "      audio_file = r.record(source)\n",
    "    result = r.recognize_google(audio_file)\n",
    "    diz['chunk{}'.format(i+1)]=result"
   ]
  },
  {
   "cell_type": "code",
   "execution_count": 5,
   "metadata": {},
   "outputs": [
    {
     "name": "stdout",
     "output_type": "stream",
     "text": [
      "Finally ready!\n"
     ]
    }
   ],
   "source": [
    "\n",
    "l_chunks=[diz['chunk{}'.format(i+1)] for i in range(len(diz))]\n",
    "text='\\n'.join(l_chunks)\n",
    "\n",
    "with open('recognized.txt',mode ='w') as file: \n",
    "   file.write(\"Recognized Speech:\") \n",
    "   file.write(\"\\n\") \n",
    "   file.write(text) \n",
    "   print(\"Finally ready!\")"
   ]
  },
  {
   "cell_type": "markdown",
   "metadata": {},
   "source": [
    "###  \n",
    "videofile,audiofile,toatextfile"
   ]
  },
  {
   "cell_type": "code",
   "execution_count": null,
   "metadata": {},
   "outputs": [],
   "source": []
  }
 ],
 "metadata": {
  "kernelspec": {
   "display_name": "Python 3",
   "language": "python",
   "name": "python3"
  },
  "language_info": {
   "codemirror_mode": {
    "name": "ipython",
    "version": 3
   },
   "file_extension": ".py",
   "mimetype": "text/x-python",
   "name": "python",
   "nbconvert_exporter": "python",
   "pygments_lexer": "ipython3",
   "version": "3.7.6"
  }
 },
 "nbformat": 4,
 "nbformat_minor": 4
}
